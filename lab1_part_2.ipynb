{
  "nbformat": 4,
  "nbformat_minor": 0,
  "metadata": {
    "colab": {
      "provenance": [],
      "authorship_tag": "ABX9TyPQ2GneaF9DwUFZKf2oU1Nl",
      "include_colab_link": true
    },
    "kernelspec": {
      "name": "python3",
      "display_name": "Python 3"
    },
    "language_info": {
      "name": "python"
    }
  },
  "cells": [
    {
      "cell_type": "markdown",
      "metadata": {
        "id": "view-in-github",
        "colab_type": "text"
      },
      "source": [
        "<a href=\"https://colab.research.google.com/github/saivarunvanama2/AIML_batch-19/blob/main/lab1_part_2.ipynb\" target=\"_parent\"><img src=\"https://colab.research.google.com/assets/colab-badge.svg\" alt=\"Open In Colab\"/></a>"
      ]
    },
    {
      "cell_type": "code",
      "execution_count": 1,
      "metadata": {
        "colab": {
          "base_uri": "https://localhost:8080/"
        },
        "id": "PhaUi8C-axPB",
        "outputId": "e66e64d8-61ec-412f-a13b-8bd16b88675e"
      },
      "outputs": [
        {
          "output_type": "stream",
          "name": "stdout",
          "text": [
            "[1, 2, 3, 4, 4, 5, 6]\n"
          ]
        }
      ],
      "source": [
        "import numpy as np\n",
        "list=[1,2,3,4,4,5,6]\n",
        "print(list)"
      ]
    },
    {
      "cell_type": "code",
      "source": [
        "List = [1, 2, 4, 4, 3, 3, 3, 6, 5]\n",
        "print(\"\\nList with the use of Numbers: \")\n",
        "print(List)\n",
        "List = [1, 2, 'Geeks', 4, 'For', 6, 'Geeks']\n",
        "print(\"\\nList with the use of Mixed Values: \")\n",
        "print(List)"
      ],
      "metadata": {
        "colab": {
          "base_uri": "https://localhost:8080/"
        },
        "id": "h9ix17W0bBTD",
        "outputId": "9fffab90-5d93-4e6a-fa3a-586970cb1b58"
      },
      "execution_count": 4,
      "outputs": [
        {
          "output_type": "stream",
          "name": "stdout",
          "text": [
            "\n",
            "List with the use of Numbers: \n",
            "[1, 2, 4, 4, 3, 3, 3, 6, 5]\n",
            "\n",
            "List with the use of Mixed Values: \n",
            "[1, 2, 'Geeks', 4, 'For', 6, 'Geeks']\n"
          ]
        }
      ]
    },
    {
      "cell_type": "code",
      "source": [
        "import numpy as np\n",
        "arr1=np.array([1,2,3,4,5])\n",
        "arr2=np.array([1,3,2,4,5])\n",
        "arr3=arr1+arr2\n",
        "arr4=arr1*arr3\n",
        "arr5=arr1-arr4\n",
        "arr6=arr3/arr4\n",
        "print(\"the product of array is\",arr4)\n",
        "print(\"the multiplication of array is\",arr3)\n",
        "print(\"the substration of array is\",arr5)\n",
        "print(\"the divide of array is\",arr6)"
      ],
      "metadata": {
        "colab": {
          "base_uri": "https://localhost:8080/"
        },
        "id": "OPAzr6ztbCrj",
        "outputId": "c47d0d6a-56b5-4629-dfc2-16e524ebc463"
      },
      "execution_count": 5,
      "outputs": [
        {
          "output_type": "stream",
          "name": "stdout",
          "text": [
            "the product of array is [ 2 10 15 32 50]\n",
            "the multiplication of array is [ 2  5  5  8 10]\n",
            "the substration of array is [ -1  -8 -12 -28 -45]\n",
            "the divide of array is [1.         0.5        0.33333333 0.25       0.2       ]\n"
          ]
        }
      ]
    },
    {
      "cell_type": "code",
      "source": [
        "#using numpy creationof sine,log and exponential of two arrays\n",
        "import numpy as np\n",
        "arr1=np.array([10,20,30,40,50])\n",
        "arr2=np.array([12,3,5,4,2])\n",
        "arr3=np.sin(arr1)\n",
        "arr4=np.cos(arr2)\n",
        "arr5=np.tan(arr2)\n",
        "arr6=np.log(arr1)\n",
        "arr7=np.exp(arr1)\n",
        "arr8=np.log2(arr2)\n",
        "print(arr3)\n",
        "print(arr4)\n",
        "print(arr5)\n",
        "print(arr6)\n",
        "print(arr7)\n",
        "print(arr8)"
      ],
      "metadata": {
        "colab": {
          "base_uri": "https://localhost:8080/"
        },
        "id": "dsnniMQbbE_N",
        "outputId": "7d299188-a840-43cd-c19c-dcd53d1bb6e9"
      },
      "execution_count": 6,
      "outputs": [
        {
          "output_type": "stream",
          "name": "stdout",
          "text": [
            "[-0.54402111  0.91294525 -0.98803162  0.74511316 -0.26237485]\n",
            "[ 0.84385396 -0.9899925   0.28366219 -0.65364362 -0.41614684]\n",
            "[-0.63585993 -0.14254654 -3.38051501  1.15782128 -2.18503986]\n",
            "[2.30258509 2.99573227 3.40119738 3.68887945 3.91202301]\n",
            "[2.20264658e+04 4.85165195e+08 1.06864746e+13 2.35385267e+17\n",
            " 5.18470553e+21]\n",
            "[3.5849625  1.5849625  2.32192809 2.         1.        ]\n"
          ]
        }
      ]
    }
  ]
}